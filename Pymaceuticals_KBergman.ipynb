{
 "cells": [
  {
   "cell_type": "markdown",
   "id": "9acf2404",
   "metadata": {},
   "source": [
    "# Pymaceuticals Inc.\n",
    "---\n",
    "### Analysis\n",
    "\n",
    "In looking at the data we can see that there is a strong, positive linear correlation between mouse weight and average tumor volume (the correlation coefficient is .84). We can also see that the drug regimens with the lowest average tumor volumes are Ramicane and Capomulin. Based on this information, I would want to look more closely at Ramicane and Capomulin, since the goal of the regimens is to treat cancer. Smaller tumor volumes would suggest that those drug regimens may be effective (we are trying to slow or stop the growth of tumors when treating cancer). In looking at the change in tumor volume over time of one mouse on the Capomulin regimen we can see that the tumor shrank. This is interesting and what we would hope to see, but I would want to see tumor volume over time for all of the mice treated with Capomulin. This might show us that similar decreases volume happened across the entire cohort of mice treated with Capomulin, but it might also show us a different picture. Looking at one mouse is not enough to make a prediction about what the drug does overall. We can see that tumor volume does go up as mouse weight goes up -- I would be interested in looking at tumor volume as a percentage of a mouse's total weight and if there is any relationship there. Does tumor volume tend to be a stable percentage of a mouse's overall weight? Finally, I think this type of anlaysis would need to be done for a longer period of time. We would want to look at whether or not tumor volume continues to shrink as time goes on. If the drug regimen is stopped would the tumors continue to shrink or stay the same size? Or would they begin to grow again? "
   ]
  },
  {
   "cell_type": "code",
   "execution_count": null,
   "id": "16f3d9bf",
   "metadata": {},
   "outputs": [],
   "source": [
    "# Dependencies and Setup\n",
    "import matplotlib.pyplot as plt\n",
    "import pandas as pd\n",
    "import scipy.stats as st\n",
    "\n",
    "# Study data files\n",
    "mouse_metadata_path = \"data/Mouse_metadata.csv\"\n",
    "study_results_path = \"data/Study_results.csv\"\n",
    "\n",
    "# Read the mouse data and the study results\n",
    "mouse_metadata = pd.read_csv(mouse_metadata_path)\n",
    "study_results = pd.read_csv(study_results_path)\n",
    "\n",
    "# Combine the data into a single DataFrame\n",
    "# normally inner would be better\n",
    "mouse_study_data = pd.merge(study_results,mouse_metadata, on='Mouse ID', how='outer')\n",
    "\n",
    "# Display the data table for preview\n",
    "mouse_study_data.head()"
   ]
  },
  {
   "cell_type": "code",
   "execution_count": null,
   "id": "66c51faf",
   "metadata": {},
   "outputs": [],
   "source": [
    "# Checking the number of mice.\n",
    "mouse_count = mouse_study_data['Mouse ID'].nunique()\n",
    "mouse_count"
   ]
  },
  {
   "cell_type": "code",
   "execution_count": null,
   "id": "02ad1656",
   "metadata": {},
   "outputs": [],
   "source": [
    "# Our data should be uniquely identified by Mouse ID and Timepoint\n",
    "# Get the duplicate mice by ID number that shows up for Mouse ID and Timepoint. \n",
    "duplicate_id=mouse_study_data.loc[mouse_study_data.duplicated(subset=['Mouse ID', 'Timepoint']),'Mouse ID'].unique()\n",
    "duplicate_id"
   ]
  },
  {
   "cell_type": "code",
   "execution_count": null,
   "id": "daefec76",
   "metadata": {},
   "outputs": [],
   "source": [
    "duplicate_data = mouse_study_data[mouse_study_data['Mouse ID'].isin(duplicate_id)==True]\n",
    "duplicate_data"
   ]
  },
  {
   "cell_type": "code",
   "execution_count": null,
   "id": "49f97533",
   "metadata": {},
   "outputs": [],
   "source": [
    "# Create a clean DataFrame by dropping the duplicate mouse by its ID.\n",
    "mouse_study_data_clean = mouse_study_data[mouse_study_data['Mouse ID'].isin(duplicate_id)==False]\n",
    "mouse_study_data_clean.head()"
   ]
  },
  {
   "cell_type": "code",
   "execution_count": null,
   "id": "993f5766",
   "metadata": {},
   "outputs": [],
   "source": [
    "# Checking the number of mice in the clean DataFrame.\n",
    "mouse_count_clean = mouse_study_data_clean['Mouse ID'].nunique()\n",
    "mouse_count_clean"
   ]
  },
  {
   "cell_type": "markdown",
   "id": "9ae9d218",
   "metadata": {},
   "source": [
    "## Summary Statistics"
   ]
  },
  {
   "cell_type": "code",
   "execution_count": null,
   "id": "89e5ad56",
   "metadata": {},
   "outputs": [],
   "source": [
    "# Generate a summary statistics table of mean, median, variance, standard deviation, and SEM of the tumor volume for each regimen"
   ]
  },
  {
   "cell_type": "code",
   "execution_count": null,
   "id": "b23c9cfc",
   "metadata": {},
   "outputs": [],
   "source": [
    "# Use groupby and summary statistical methods to calculate the following properties of each drug regimen: \n",
    "# mean, median, variance, standard deviation, and SEM of the tumor volume. \n",
    "drug_mean = mouse_study_data_clean.groupby('Drug Regimen')['Tumor Volume (mm3)'].mean()\n",
    "drug_median = mouse_study_data_clean.groupby('Drug Regimen')['Tumor Volume (mm3)'].median()\n",
    "drug_variance = mouse_study_data_clean.groupby('Drug Regimen')['Tumor Volume (mm3)'].var()\n",
    "drug_std_dev = mouse_study_data_clean.groupby('Drug Regimen')['Tumor Volume (mm3)'].std()\n",
    "drug_sem = mouse_study_data_clean.groupby('Drug Regimen')['Tumor Volume (mm3)'].sem()"
   ]
  },
  {
   "cell_type": "code",
   "execution_count": null,
   "id": "a7be350a",
   "metadata": {},
   "outputs": [],
   "source": [
    "# Assemble the resulting series into a single summary DataFrame.\n",
    "summary_statistics_table = {\"Mean Tumor Volume (mm3)\": drug_mean,\n",
    "                            \"Median Tumor Volume(mm3)\": drug_median,\n",
    "                            \"Tumor Volume Variance (mm3)\":drug_variance,\n",
    "                            \"Tumor Volume Standard Deviation (mm3)\": drug_std_dev,\n",
    "                            \"Tumor Volume SEM (mm3)\": drug_sem}\n",
    "\n",
    "summary_statistics_table = pd.DataFrame(summary_statistics_table)\n",
    "summary_statistics_table"
   ]
  },
  {
   "cell_type": "code",
   "execution_count": null,
   "id": "fd2cf16c",
   "metadata": {},
   "outputs": [],
   "source": [
    "# Using the aggregation method, produce the same summary statistics in a single line\n",
    "summary = mouse_study_data_clean.groupby('Drug Regimen').agg({\"Tumor Volume (mm3)\":['mean','median','var','std','sem']})\n",
    "#summary = mouse_study_data_clean.groupby('Drug Regimen').agg({\"Tumor Volume (mm3)\":['mean','median','var','std','sem']}).rename(columns{'mean':\"Mean Tumor Volume\",\"median\":\"Median Tumor Volume\",'var':\"Variance\",'std':\"Standard Deviation\",'sem':\"Standard Error\"})\n",
    "summary\n"
   ]
  },
  {
   "cell_type": "markdown",
   "id": "079b3a1f",
   "metadata": {},
   "source": [
    "## Bar and Pie Charts"
   ]
  },
  {
   "cell_type": "code",
   "execution_count": null,
   "id": "ac4b187d",
   "metadata": {},
   "outputs": [],
   "source": [
    "# Generate a bar plot showing the total number of rows (Mouse ID/Timepoints) for each drug regimen using Pandas.\n",
    "timepoints_per_drug = mouse_study_data_clean.groupby(\"Drug Regimen\")['Mouse ID'].count()\n",
    "drug_bar_pandas = timepoints_per_drug.plot.bar(xlabel=\"Drug Regimen\",ylabel='# of Observed Mouse Timepoints',rot=90,width=0.8, color='blue')\n"
   ]
  },
  {
   "cell_type": "code",
   "execution_count": null,
   "id": "f11a6a0d",
   "metadata": {},
   "outputs": [],
   "source": [
    "# Generate a bar plot showing the total number of rows (Mouse ID/Timepoints) for each drug regimen using pyplot.\n",
    "drug = timepoints_per_drug.index\n",
    "timepoints_count = timepoints_per_drug.values\n",
    "plt.bar(drug, timepoints_count, color='blue',width=0.8,bottom=None, align='center',tick_label=drug)\n",
    "plt.xlabel('Drug Regimen')\n",
    "plt.ylabel('# of Observed Mouse Timepoints')\n",
    "plt.xticks(rotation='vertical')"
   ]
  },
  {
   "cell_type": "code",
   "execution_count": null,
   "id": "33f09e8f",
   "metadata": {},
   "outputs": [],
   "source": [
    "# Generate a pie plot showing the distribution of female versus male mice using Pandas\n",
    "mouse_sex_df = mouse_study_data_clean.groupby('Sex')['Mouse ID'].count()\n",
    "plot_pandas = mouse_sex_df.plot.pie(y='Count of Mice', label='Sex', title=' Distribution of Female vs. Male Mice',figsize=(5,5),autopct='%1.0f%%')"
   ]
  },
  {
   "cell_type": "code",
   "execution_count": null,
   "id": "071d09f7",
   "metadata": {},
   "outputs": [],
   "source": [
    "plt.pie(mouse_sex_df.values, labels=mouse_sex_df.index,autopct='%1.0f%%')\n",
    "plt.ylabel('Sex')\n",
    "plt.title('Distribution of Female vs. Male Mice')\n",
    "plt.show()"
   ]
  },
  {
   "cell_type": "markdown",
   "id": "ae5f45d5",
   "metadata": {},
   "source": [
    "## Quartiles, Outliers and Boxplots"
   ]
  },
  {
   "cell_type": "code",
   "execution_count": null,
   "id": "93d90ed0",
   "metadata": {},
   "outputs": [],
   "source": [
    "# Calculate the final tumor volume of each mouse across four of the treatment regimens:  \n",
    "# Capomulin, Ramicane, Infubinol, and Ceftamin"
   ]
  },
  {
   "cell_type": "code",
   "execution_count": null,
   "id": "54a8dce3",
   "metadata": {},
   "outputs": [],
   "source": [
    "# Start by getting the last (greatest) timepoint for each mouse\n",
    "last_timepoint=mouse_study_data_clean.groupby('Mouse ID')['Timepoint'].max()\n",
    "last_timepoint"
   ]
  },
  {
   "cell_type": "code",
   "execution_count": null,
   "id": "71063ca4",
   "metadata": {},
   "outputs": [],
   "source": [
    "# Merge this group df with the original DataFrame to get the tumor volume at the last timepoint\n",
    "mouse_study_data_clean_merged = pd.merge(mouse_study_data_clean,last_timepoint, on=['Mouse ID','Timepoint'], how='inner')\n",
    "mouse_study_data_clean_merged = mouse_study_data_clean_merged.reset_index(drop=True)\n",
    "mouse_study_data_clean_merged"
   ]
  },
  {
   "cell_type": "code",
   "execution_count": null,
   "id": "64fe8bcc",
   "metadata": {},
   "outputs": [],
   "source": [
    "# Create empty list to fill with tumor vol data (for plotting)\n",
    "tumor_volume_data = []\n",
    "\n",
    "# Put key treatments into a list for for loop (and later for plot labels)\n",
    "key_treatments = ['Capomulin', 'Ramicane', 'Infubinol', 'Ceftamin']\n",
    "\n",
    "# For each drug in the key treatment list\n",
    "for treatment in key_treatments: \n",
    "    # Locate the rows which contain mice on this drug and get the tumor volumes\n",
    "    drug_match_s = mouse_study_data_clean_merged['Drug Regimen'] == treatment\n",
    "    drug_volume_s = mouse_study_data_clean_merged.loc[drug_match_s, 'Tumor Volume (mm3)']\n",
    "\n",
    "    # add subset (series of tumor volumes) to the tumor volume list\n",
    "    tumor_volume_data.append(drug_volume_s)\n",
    "    # Calculate the IQR for the drug\n",
    "    percentile_25 = drug_volume_s.quantile(0.25)\n",
    "    percentile_75 = drug_volume_s.quantile(0.75)\n",
    "    iqr = (percentile_75-percentile_25)\n",
    "    \n",
    "    # Determine outliers using upper and lower bounds, for the drug\n",
    "    upper_bound = percentile_75 + (1.5 * iqr)\n",
    "    lower_bound = percentile_25 - (1.5 * iqr)\n",
    "    upper_outlier_s = drug_volume_s > upper_bound\n",
    "    lower_outlier_s = drug_volume_s < lower_bound\n",
    "    outliers_s = drug_volume_s[upper_outlier_s | lower_outlier_s]\n",
    "    print(f\"{treatment}'s potential outliers, {outliers_s}\")"
   ]
  },
  {
   "cell_type": "code",
   "execution_count": null,
   "id": "c4002600",
   "metadata": {},
   "outputs": [],
   "source": [
    "# Generate a box plot that shows the distrubution of the tumor volume for each treatment group.\n",
    "flierprops = dict(marker='o', markerfacecolor='r', markersize=12,\n",
    "                  linestyle='none', markeredgecolor='black')\n",
    "plt.boxplot(tumor_volume_data, flierprops=flierprops, labels=key_treatments)\n",
    "plt.ylabel(\"Final Tumor Volume (mm3)\")\n",
    "plt.show()"
   ]
  },
  {
   "cell_type": "markdown",
   "id": "a246e2f1",
   "metadata": {},
   "source": [
    "## Line and Scatter Plots"
   ]
  },
  {
   "cell_type": "code",
   "execution_count": null,
   "id": "768ae112",
   "metadata": {},
   "outputs": [],
   "source": [
    "# Generate a line plot of tumor volume vs. time point for a single mouse treated with Capomulin\n",
    "mouse_l509 = mouse_study_data_clean['Mouse ID'] == 'l509'\n",
    "tumor_volume_l509 = mouse_study_data_clean.loc[mouse_l509]['Tumor Volume (mm3)'].reset_index(drop=True)\n",
    "timepoint_l509 = mouse_study_data_clean.loc[mouse_l509]['Timepoint'].reset_index(drop=True)\n",
    "plt.plot(timepoint_l509, tumor_volume_l509)\n",
    "plt.title('Capomulin Treatment of Mouse l509')\n",
    "plt.xlabel('Timepoint(days)')\n",
    "plt.ylabel('Tumor Volume (mm3)')"
   ]
  },
  {
   "cell_type": "code",
   "execution_count": null,
   "id": "9b458879",
   "metadata": {},
   "outputs": [],
   "source": [
    "# Generate a scatter plot of mouse weight vs. the average observed tumor volume for the entire Capomulin regimen"
   ]
  },
  {
   "cell_type": "code",
   "execution_count": null,
   "id": "f22b0485",
   "metadata": {},
   "outputs": [],
   "source": [
    "drug_match_capomulin = mouse_study_data_clean['Drug Regimen'] == 'Capomulin'\n",
    "capomulin_df = mouse_study_data_clean.loc[drug_match_capomulin][['Weight (g)', 'Tumor Volume (mm3)', 'Mouse ID']].reset_index(drop=True)\n",
    "capomulin_df = capomulin_df.groupby('Mouse ID').mean()"
   ]
  },
  {
   "cell_type": "code",
   "execution_count": null,
   "id": "86a0b54b",
   "metadata": {},
   "outputs": [],
   "source": [
    "scatter_plot = capomulin_df.plot.scatter('Weight (g)', 'Tumor Volume (mm3)')\n",
    "scatter_plot.set_ylabel('Average Tumor Volume (mm3)')"
   ]
  },
  {
   "cell_type": "markdown",
   "id": "27bae1d7",
   "metadata": {},
   "source": [
    "## Correlation and Regression"
   ]
  },
  {
   "cell_type": "code",
   "execution_count": null,
   "id": "61126d97",
   "metadata": {},
   "outputs": [],
   "source": [
    "# Calculate the correlation coefficient and a linear regression model \n",
    "# for mouse weight and average observed tumor volume for the entire Capomulin regimen"
   ]
  },
  {
   "cell_type": "code",
   "execution_count": null,
   "id": "2069c7af",
   "metadata": {},
   "outputs": [],
   "source": [
    "weight = capomulin_df['Weight (g)']\n",
    "tumor_volume = capomulin_df['Tumor Volume (mm3)']\n",
    "capomulin_r = st.pearsonr(weight, tumor_volume).statistic"
   ]
  },
  {
   "cell_type": "code",
   "execution_count": null,
   "id": "3b4c1cf1",
   "metadata": {},
   "outputs": [],
   "source": [
    "wtv_slope, wtv_int, wtv_r, wtv_p, wtv_std_err, = st.linregress(weight, tumor_volume)\n",
    "wtv_fit = wtv_slope*weight + wtv_int"
   ]
  },
  {
   "cell_type": "code",
   "execution_count": null,
   "id": "935579a4",
   "metadata": {},
   "outputs": [],
   "source": [
    "scatter_plot = capomulin_df.plot.scatter('Weight (g)', 'Tumor Volume (mm3)')\n",
    "scatter_plot.set_ylabel('Average Tumor Volume (mm3)')\n",
    "plt.plot(weight,wtv_fit, '--', color='r')\n",
    "print(f\"The correlation between mouse weight and the average tumor volume is {capomulin_r:.2f}\")\n",
    "plt.show()"
   ]
  },
  {
   "cell_type": "code",
   "execution_count": null,
   "id": "ec6b3af1",
   "metadata": {},
   "outputs": [],
   "source": []
  }
 ],
 "metadata": {
  "kernelspec": {
   "display_name": "Python 3 (ipykernel)",
   "language": "python",
   "name": "python3"
  },
  "language_info": {
   "codemirror_mode": {
    "name": "ipython",
    "version": 3
   },
   "file_extension": ".py",
   "mimetype": "text/x-python",
   "name": "python",
   "nbconvert_exporter": "python",
   "pygments_lexer": "ipython3",
   "version": "3.9.13"
  }
 },
 "nbformat": 4,
 "nbformat_minor": 5
}
